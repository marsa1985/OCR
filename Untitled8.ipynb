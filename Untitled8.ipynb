{
 "cells": [
  {
   "cell_type": "code",
   "execution_count": 71,
   "metadata": {},
   "outputs": [],
   "source": [
    "import tempfile\n",
    "\n",
    "import cv2\n",
    "\n",
    "import numpy as np\n",
    "from PIL import Image\n",
    "import pytesseract\n",
    "pytesseract.pytesseract.tesseract_cmd = r\"C:\\Program Files (x86)\\Tesseract-OCR\\tesseract.exe\"\n",
    "pytesseract.pytesseract.OMP_THREAD_LIMIT=2 #thread num\n",
    "IMAGE_SIZE = 1800\n",
    "BINARY_THREHOLD = 180\n",
    "\n",
    "size = None\n",
    "def process_text(str3):\n",
    "    str1 =str3\n",
    "    str1 =str1.strip()\n",
    "    str1 =str1.replace(' ','')\n",
    "    str1 = str1.replace('\\n','')\n",
    "    str1 = str1.replace('.','')\n",
    "    str1 = str1.replace(',','')\n",
    "    return str1\n",
    "\n",
    "def get_size_of_scaled_image(im):\n",
    "    global size\n",
    "    if size is None:\n",
    "        length_x, width_y = im.size\n",
    "        factor = max(1, int(IMAGE_SIZE / length_x))\n",
    "        size = factor * length_x, factor * width_y\n",
    "    return size\n",
    "\n",
    "\n",
    "def process_image_for_ocr(file_path):\n",
    "    #logging.info('Processing image for text Extraction')\n",
    "    temp_filename = set_image_dpi(file_path)\n",
    "    im_new = remove_noise_and_smooth(temp_filename)\n",
    "    return im_new\n",
    "\n",
    "\n",
    "def set_image_dpi(file_path):\n",
    "    im = Image.open(file_path)\n",
    "    # size = (1800, 1800)\n",
    "    size = get_size_of_scaled_image(im)\n",
    "    im_resized = im.resize(size, Image.ANTIALIAS)\n",
    "    temp_file = tempfile.NamedTemporaryFile(delete=False, suffix=suffix)\n",
    "    temp_filename = temp_file.name\n",
    "    im_resized.save(temp_filename, dpi=(300, 300))  # best for OCR\n",
    "    return temp_filename\n",
    "\n",
    "\n",
    "def image_smoothening(img):\n",
    "    ret1, th1 = cv2.threshold(img, BINARY_THREHOLD, 255, cv2.THRESH_BINARY)\n",
    "    ret2, th2 = cv2.threshold(th1, 0, 255, cv2.THRESH_BINARY + cv2.THRESH_OTSU)\n",
    "    blur = cv2.GaussianBlur(th2, (1, 1), 0)\n",
    "    #blur = cv2.medianBlur(th2,3)\n",
    "    ret3, th3 = cv2.threshold(blur, 0, 255, cv2.THRESH_BINARY + cv2.THRESH_OTSU)\n",
    "    return th3\n",
    "\n",
    "\n",
    "def remove_noise_and_smooth(file_name):\n",
    "    #logging.info('Removing noise and smoothening image')\n",
    "    img = cv2.imread(file_name, 0)\n",
    "    filtered = cv2.adaptiveThreshold(img.astype(np.uint8), 255, cv2.ADAPTIVE_THRESH_MEAN_C, cv2.THRESH_BINARY, 17,3)\n",
    "    kernel = np.ones((1, 1), np.uint8)\n",
    "    opening = cv2.morphologyEx(filtered, cv2.MORPH_OPEN, kernel)\n",
    "    closing = cv2.morphologyEx(opening, cv2.MORPH_CLOSE, kernel)\n",
    "    img = image_smoothening(img)\n",
    "    or_image = cv2.bitwise_or(img, closing)\n",
    "    return or_image"
   ]
  },
  {
   "cell_type": "code",
   "execution_count": 72,
   "metadata": {},
   "outputs": [
    {
     "name": "stdout",
     "output_type": "stream",
     "text": [
      "òngtôinhưmấycànhhoat òngtôinhưmáycànhhoat 197\n",
      "ngmỗilầnthấymấyemnhỏ ngmỗilầnthầymấyemnhỏ 331\n",
      "gcósựthayđổilớn:Hômn gcósựthayđồilớn:Hômn 609\n",
      "ảdiềunhưthằngQuívàkh ảdiềunhưthẳngQuívàkh 659\n",
      "gvàđứngđắnDọcđườngtô gvàđứngđắnĐọcđườngtô 752\n",
      "đườngtôithấymấycậunh đườngtôithầymấycậunh 765\n",
      "rạcbằngtôiáoquầntươm rạcbằngtôiúoquầntươm 787\n",
      "ơmtấtnhínhảnhgọitênn ơmtấtnhínhânhgọitênn 805\n",
      "ytraosáchvởchonhauxe ytraosáchvớchonhauxe 830\n",
      "thèmHaiquyểnvởmớiđan thèmHaiquyềnvớmớiđan 856\n",
      "mHaiquyểnvởmớiđangởt mHaiquyềnvớmớiđangởt 859\n",
      "hưngmộtquyểnvởcũngch hưngmộtquyềnvớcũngch 925\n",
      "gmộtquyểnvởcũngchìra gmộtquyềnvớcũngchìra 928\n",
      "chúixuốngđấtTôixóclê chúixuốngđắtTôixóclê 958\n",
      "nvànắmlạicẩnthậnMấyc nvànắmlạicầnthậnMáyc 978\n",
      "ạicẩnthậnMấycậuđitrư ạicầnthậnMáycậuđitrư 985\n",
      "rướcosáchvởthiệtnhiề rướcosáchvớthiệtnhiề 1003\n",
      "iềulạikèmcảbútthướcn iềulạikèmcủbútthướcn 1021\n",
      "khôngđểlộvẻkhókhăngì khôngđểlộvềkhókhăngì 1054\n",
      "ínhmấybảnđồtreotrênt ínhmấybảnđôtreotrênt 1554\n",
      "làngNhưnglầnnàylạikh làngNhưnglânnàylạikh 1639\n",
      "uổitrưahèđầyvắnglặng uổitrưahèđâyvắnglặng 1746\n",
      "đâmralosợvẩnvơCũngnh đâmralosợvấnvơCũngnh 1773\n",
      "gvàướcaothầmđượcnhưn gvàướcaothâmđượcnhưn 1951\n",
      "2014\n",
      "24\n"
     ]
    }
   ],
   "source": [
    "file_name =\"vietsample.png\"\n",
    "suffix = '.'+file_name.split('.')[-1]\n",
    "img = process_image_for_ocr(file_name)\n",
    "testText=pytesseract.image_to_string(img, lang='vie_best')\n",
    "testText2=process_text(testText)\n",
    "#print(testText2)\n",
    "file = open(\"vietsample.txt\", \"r\", encoding=\"utf8\")\n",
    "str3 = file.read()\n",
    "str2 = process_text(str3)\n",
    "#print(str2)\n",
    "#print(len(testText))\n",
    "count=0\n",
    "global str\n",
    "str4=str2.strip()\n",
    "str5 =str4[1:]\n",
    "for i in range(len(str5)) :\n",
    "    if str5[i]!=testText2[i] :\n",
    "        a=str(i)\n",
    "        print(str5[i-10:i+10]+' '+testText2[i-10:i+10]+' '+a)\n",
    "        count=count+1\n",
    "\n",
    "#cv2.imshow('abc', img)\n",
    "print(len(str5))\n",
    "print(count)"
   ]
  },
  {
   "cell_type": "code",
   "execution_count": 18,
   "metadata": {},
   "outputs": [
    {
     "name": "stdout",
     "output_type": "stream",
     "text": [
      "-0.0\n"
     ]
    }
   ],
   "source": [
    "print(angle)"
   ]
  }
 ],
 "metadata": {
  "kernelspec": {
   "display_name": "Python 3",
   "language": "python",
   "name": "python3"
  },
  "language_info": {
   "codemirror_mode": {
    "name": "ipython",
    "version": 3
   },
   "file_extension": ".py",
   "mimetype": "text/x-python",
   "name": "python",
   "nbconvert_exporter": "python",
   "pygments_lexer": "ipython3",
   "version": "3.6.5"
  }
 },
 "nbformat": 4,
 "nbformat_minor": 2
}
